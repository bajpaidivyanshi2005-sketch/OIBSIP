{
  "nbformat": 4,
  "nbformat_minor": 0,
  "metadata": {
    "colab": {
      "provenance": [],
      "authorship_tag": "ABX9TyMMTx9g6nsV7Ttp7WjmWmOO",
      "include_colab_link": true
    },
    "kernelspec": {
      "name": "python3",
      "display_name": "Python 3"
    },
    "language_info": {
      "name": "python"
    }
  },
  "cells": [
    {
      "cell_type": "markdown",
      "metadata": {
        "id": "view-in-github",
        "colab_type": "text"
      },
      "source": [
        "<a href=\"https://colab.research.google.com/github/bajpaidivyanshi2005-sketch/OIBSIP/blob/main/LEVEL_2_TASK_5.ipynb\" target=\"_parent\"><img src=\"https://colab.research.google.com/assets/colab-badge.svg\" alt=\"Open In Colab\"/></a>"
      ]
    },
    {
      "cell_type": "markdown",
      "source": [
        "# **Install Required Packages**"
      ],
      "metadata": {
        "id": "KdFqpwpmeWl8"
      }
    },
    {
      "cell_type": "code",
      "source": [
        "!pip install pandas numpy nltk scikit-learn matplotlib seaborn"
      ],
      "metadata": {
        "colab": {
          "base_uri": "https://localhost:8080/"
        },
        "id": "fuK2dbQceW30",
        "outputId": "9d51ed77-f5b6-416a-d8b4-8076c2719a7a"
      },
      "execution_count": null,
      "outputs": [
        {
          "output_type": "stream",
          "name": "stdout",
          "text": [
            "Requirement already satisfied: pandas in /usr/local/lib/python3.11/dist-packages (2.2.2)\n",
            "Requirement already satisfied: numpy in /usr/local/lib/python3.11/dist-packages (2.0.2)\n",
            "Requirement already satisfied: nltk in /usr/local/lib/python3.11/dist-packages (3.9.1)\n",
            "Requirement already satisfied: scikit-learn in /usr/local/lib/python3.11/dist-packages (1.6.1)\n",
            "Requirement already satisfied: matplotlib in /usr/local/lib/python3.11/dist-packages (3.10.0)\n",
            "Requirement already satisfied: seaborn in /usr/local/lib/python3.11/dist-packages (0.13.2)\n",
            "Requirement already satisfied: python-dateutil>=2.8.2 in /usr/local/lib/python3.11/dist-packages (from pandas) (2.9.0.post0)\n",
            "Requirement already satisfied: pytz>=2020.1 in /usr/local/lib/python3.11/dist-packages (from pandas) (2025.2)\n",
            "Requirement already satisfied: tzdata>=2022.7 in /usr/local/lib/python3.11/dist-packages (from pandas) (2025.2)\n",
            "Requirement already satisfied: click in /usr/local/lib/python3.11/dist-packages (from nltk) (8.2.1)\n",
            "Requirement already satisfied: joblib in /usr/local/lib/python3.11/dist-packages (from nltk) (1.5.1)\n",
            "Requirement already satisfied: regex>=2021.8.3 in /usr/local/lib/python3.11/dist-packages (from nltk) (2024.11.6)\n",
            "Requirement already satisfied: tqdm in /usr/local/lib/python3.11/dist-packages (from nltk) (4.67.1)\n",
            "Requirement already satisfied: scipy>=1.6.0 in /usr/local/lib/python3.11/dist-packages (from scikit-learn) (1.16.1)\n",
            "Requirement already satisfied: threadpoolctl>=3.1.0 in /usr/local/lib/python3.11/dist-packages (from scikit-learn) (3.6.0)\n",
            "Requirement already satisfied: contourpy>=1.0.1 in /usr/local/lib/python3.11/dist-packages (from matplotlib) (1.3.3)\n",
            "Requirement already satisfied: cycler>=0.10 in /usr/local/lib/python3.11/dist-packages (from matplotlib) (0.12.1)\n",
            "Requirement already satisfied: fonttools>=4.22.0 in /usr/local/lib/python3.11/dist-packages (from matplotlib) (4.59.0)\n",
            "Requirement already satisfied: kiwisolver>=1.3.1 in /usr/local/lib/python3.11/dist-packages (from matplotlib) (1.4.8)\n",
            "Requirement already satisfied: packaging>=20.0 in /usr/local/lib/python3.11/dist-packages (from matplotlib) (25.0)\n",
            "Requirement already satisfied: pillow>=8 in /usr/local/lib/python3.11/dist-packages (from matplotlib) (11.3.0)\n",
            "Requirement already satisfied: pyparsing>=2.3.1 in /usr/local/lib/python3.11/dist-packages (from matplotlib) (3.2.3)\n",
            "Requirement already satisfied: six>=1.5 in /usr/local/lib/python3.11/dist-packages (from python-dateutil>=2.8.2->pandas) (1.17.0)\n"
          ]
        }
      ]
    },
    {
      "cell_type": "markdown",
      "source": [
        "# **Import Libraries**"
      ],
      "metadata": {
        "id": "RY8JjOQHezZK"
      }
    },
    {
      "cell_type": "code",
      "source": [
        "import pandas as pd\n",
        "import numpy as np\n",
        "import nltk\n",
        "from nltk.corpus import stopwords\n",
        "from nltk.tokenize import word_tokenize\n",
        "from sklearn.model_selection import train_test_split\n",
        "from sklearn.metrics import accuracy_score, classification_report\n",
        "import matplotlib.pyplot as plt\n",
        "import seaborn as sns\n",
        "\n"
      ],
      "metadata": {
        "id": "8-HEC8Erezpy"
      },
      "execution_count": null,
      "outputs": []
    },
    {
      "cell_type": "markdown",
      "source": [
        "# **Read the CSV File**"
      ],
      "metadata": {
        "id": "_xawD31YfFS8"
      }
    },
    {
      "cell_type": "code",
      "source": [
        "# Read the CSV file\n",
        "# Ensure the file path is correct for your system\n",
        "file_path = r\"C:\\Users\\MAIHAN\\Downloads\\creditcardfraud-metadata.csv\"\n",
        "try:\n",
        "    data = pd.read_csv(file_path)\n",
        "    # Display the first few rows of the dataset\n",
        "    print(data.head())\n",
        "except FileNotFoundError:\n",
        "    print(f\"Error: The file was not found at {file_path}\")"
      ],
      "metadata": {
        "colab": {
          "base_uri": "https://localhost:8080/"
        },
        "id": "Zn2agqaMfg5p",
        "outputId": "b60a5e71-c348-481d-f6be-33fa13205d67"
      },
      "execution_count": null,
      "outputs": [
        {
          "output_type": "stream",
          "name": "stdout",
          "text": [
            "Error: The file was not found at C:\\Users\\MAIHAN\\Downloads\\creditcardfraud-metadata.csv\n"
          ]
        }
      ]
    },
    {
      "cell_type": "code",
      "source": [
        "import pandas as pd\n",
        "import requests\n",
        "\n",
        "url = \"https://raw.githubusercontent.com/dscape/spell/master/test/resources/big.txt\"\n",
        "\n",
        "# Fetch text from URL\n",
        "response = requests.get(url)\n",
        "lines = response.text.splitlines()\n",
        "\n",
        "# Convert to DataFrame\n",
        "text_data = pd.DataFrame(lines, columns=[\"text\"])\n",
        "\n",
        "print(text_data.head())\n"
      ],
      "metadata": {
        "colab": {
          "base_uri": "https://localhost:8080/"
        },
        "id": "cqzcs8xff9uR",
        "outputId": "3bf9b322-3249-46d8-ce75-ee0cc1179df8"
      },
      "execution_count": null,
      "outputs": [
        {
          "output_type": "stream",
          "name": "stdout",
          "text": [
            "                                                text\n",
            "0  The Project Gutenberg EBook of The Adventures ...\n",
            "1                          by Sir Arthur Conan Doyle\n",
            "2      (#15 in our series by Sir Arthur Conan Doyle)\n",
            "3                                                   \n",
            "4  Copyright laws are changing all over the world...\n"
          ]
        }
      ]
    },
    {
      "cell_type": "markdown",
      "source": [
        "# **Data Preprocessing**"
      ],
      "metadata": {
        "id": "b0TKKi8rgfrh"
      }
    },
    {
      "cell_type": "code",
      "source": [
        "import nltk\n",
        "nltk.download('punkt')      # standard punkt tokenizer\n",
        "nltk.download('punkt_tab')  # specific 'punkt_tab' resource it’s asking for\n"
      ],
      "metadata": {
        "colab": {
          "base_uri": "https://localhost:8080/"
        },
        "id": "YLxAI_U8giFB",
        "outputId": "ce3c1181-b016-4c2c-f358-02a486e159ac"
      },
      "execution_count": null,
      "outputs": [
        {
          "output_type": "stream",
          "name": "stderr",
          "text": [
            "[nltk_data] Downloading package punkt to /root/nltk_data...\n",
            "[nltk_data]   Package punkt is already up-to-date!\n",
            "[nltk_data] Downloading package punkt_tab to /root/nltk_data...\n",
            "[nltk_data]   Unzipping tokenizers/punkt_tab.zip.\n"
          ]
        },
        {
          "output_type": "execute_result",
          "data": {
            "text/plain": [
              "True"
            ]
          },
          "metadata": {},
          "execution_count": 9
        }
      ]
    },
    {
      "cell_type": "code",
      "source": [
        "def clean_text(text):\n",
        "    text = text.lower()\n",
        "    text = re.sub(r'[^a-z\\s]', '', text)\n",
        "    return text\n",
        "\n",
        "text_data['clean_text'] = text_data['text'].apply(clean_text)\n",
        "all_words = nltk.word_tokenize(\" \".join(text_data['clean_text']))\n",
        "print(f\"Total words: {len(all_words)}\")"
      ],
      "metadata": {
        "colab": {
          "base_uri": "https://localhost:8080/"
        },
        "id": "fVSHt7NnhQfY",
        "outputId": "5de5b14d-9321-4034-9d8d-01282c447b46"
      },
      "execution_count": null,
      "outputs": [
        {
          "output_type": "stream",
          "name": "stdout",
          "text": [
            "Total words: 1087140\n"
          ]
        }
      ]
    },
    {
      "cell_type": "markdown",
      "source": [
        "# **Build Autocomplete Model (Trie + n-grams)**"
      ],
      "metadata": {
        "id": "LJHsso6Ch2aI"
      }
    },
    {
      "cell_type": "code",
      "source": [
        "class TrieNode:\n",
        "    def __init__(self):\n",
        "        self.children = {}\n",
        "        self.is_end_of_word = False\n",
        "\n",
        "class Trie:\n",
        "    def __init__(self):\n",
        "        self.root = TrieNode()\n",
        "\n",
        "    def insert(self, word):\n",
        "        node = self.root\n",
        "        for char in word:\n",
        "            if char not in node.children:\n",
        "                node.children[char] = TrieNode()\n",
        "            node = node.children[char]\n",
        "        node.is_end_of_word = True\n",
        "\n",
        "    def starts_with(self, prefix):\n",
        "        node = self.root\n",
        "        for char in prefix:\n",
        "            if char not in node.children:\n",
        "                return []\n",
        "            node = node.children[char]\n",
        "        return self._words_from_node(node, prefix)\n",
        "\n",
        "    def _words_from_node(self, node, prefix):\n",
        "        words = []\n",
        "        if node.is_end_of_word:\n",
        "            words.append(prefix)\n",
        "        for char, next_node in node.children.items():\n",
        "            words.extend(self._words_from_node(next_node, prefix + char))\n",
        "        return words\n",
        "\n",
        "# Build Trie\n",
        "trie = Trie()\n",
        "for word in set(all_words):\n",
        "    trie.insert(word)\n",
        "\n",
        "# Example Autocomplete\n",
        "prefix = \"auto\"\n",
        "suggestions = trie.starts_with(prefix)\n",
        "print(f\"Autocomplete suggestions for '{prefix}': {suggestions[:10]}\")"
      ],
      "metadata": {
        "colab": {
          "base_uri": "https://localhost:8080/"
        },
        "id": "G4GZk33Zh2pj",
        "outputId": "9d7be906-40c7-4a4a-f196-1482abf93dfa"
      },
      "execution_count": null,
      "outputs": [
        {
          "output_type": "stream",
          "name": "stdout",
          "text": [
            "Autocomplete suggestions for 'auto': ['autocrat', 'autocrats', 'autocratic', 'autocracy', 'autoclave', 'autoplastic', 'automobile', 'automatic', 'automatically', 'autogenous']\n"
          ]
        }
      ]
    },
    {
      "cell_type": "markdown",
      "source": [
        "# **Autocorrect using SymSpell**"
      ],
      "metadata": {
        "id": "-RK38voQiRJ9"
      }
    },
    {
      "cell_type": "code",
      "source": [
        "word_list = pd.read_csv(dictionary_path, header=None, dtype=str)[0].tolist()"
      ],
      "metadata": {
        "id": "hEpYxcJhiRby"
      },
      "execution_count": null,
      "outputs": []
    },
    {
      "cell_type": "code",
      "source": [
        "for word in word_list:\n",
        "    # Convert the word to a string before passing it to the function\n",
        "    word_str = str(word)\n",
        "    # Optional: Add a check to ensure it's a valid string (e.g., not a NaN value)\n",
        "    if isinstance(word_str, str) and word_str.strip():\n",
        "        sym_spell.create_dictionary_entry(word_str, 1)"
      ],
      "metadata": {
        "id": "qeFiac2qifwr"
      },
      "execution_count": null,
      "outputs": []
    },
    {
      "cell_type": "code",
      "source": [
        "import requests\n",
        "from symspellpy import SymSpell, Verbosity\n",
        "\n",
        "# Step 6: Autocorrect using SymSpell\n",
        "sym_spell = SymSpell(max_dictionary_edit_distance=2, prefix_length=7)\n",
        "dictionary_path = \"https://raw.githubusercontent.com/dwyl/english-words/master/words_alpha.txt\"\n",
        "\n",
        "# ---- CORRECTED PART ----\n",
        "# 1. Fetch the text file content from the URL\n",
        "try:\n",
        "    response = requests.get(dictionary_path)\n",
        "    response.raise_for_status()  # Raise an exception for bad status codes\n",
        "\n",
        "    # 2. Split the content into a list of words\n",
        "    word_list = response.text.splitlines()\n",
        "\n",
        "    # 3. Create dictionary entries\n",
        "    for word in word_list:\n",
        "        # Use strip() to remove any leading/trailing whitespace\n",
        "        sym_spell.create_dictionary_entry(word.strip(), 1)\n",
        "\n",
        "except requests.exceptions.RequestException as e:\n",
        "    print(f\"Error fetching dictionary file: {e}\")\n",
        "    # Handle the error appropriately, e.g., by exiting or using a local fallback.\n",
        "\n",
        "# ---- REST OF THE CODE (now works as intended) ----\n",
        "def autocorrect_word(word):\n",
        "    suggestions = sym_spell.lookup(word, Verbosity.CLOSEST, max_edit_distance=2)\n",
        "    return suggestions[0].term if suggestions else word\n",
        "\n",
        "# Example Autocorrect\n",
        "word = \"enviroment\"\n",
        "corrected = autocorrect_word(word)\n",
        "print(f\"Autocorrect '{word}' -> '{corrected}'\")"
      ],
      "metadata": {
        "colab": {
          "base_uri": "https://localhost:8080/"
        },
        "id": "15BiCFeDjTAn",
        "outputId": "4b49a3fc-4630-4cd6-8b64-b1630db358fc"
      },
      "execution_count": null,
      "outputs": [
        {
          "output_type": "stream",
          "name": "stdout",
          "text": [
            "Autocorrect 'enviroment' -> 'enviroment'\n"
          ]
        }
      ]
    },
    {
      "cell_type": "markdown",
      "source": [
        "# **Performance Metrics**"
      ],
      "metadata": {
        "id": "uP23TE92kGQ1"
      }
    },
    {
      "cell_type": "code",
      "source": [
        "sample_words = [\"teh\", \"enviroment\", \"recieve\", \"acommodate\"]\n",
        "corrections = [autocorrect_word(w) for w in sample_words]\n",
        "accuracy = sum([c == TextBlob(w).correct().string for w, c in zip(sample_words, corrections)]) / len(sample_words)\n",
        "print(f\"Autocorrect Accuracy: {accuracy * 100:.2f}%\")"
      ],
      "metadata": {
        "colab": {
          "base_uri": "https://localhost:8080/"
        },
        "id": "yHD99d83kGxH",
        "outputId": "09148769-ecf3-46ad-ee79-0375282f8e18"
      },
      "execution_count": null,
      "outputs": [
        {
          "output_type": "stream",
          "name": "stdout",
          "text": [
            "Autocorrect Accuracy: 0.00%\n"
          ]
        }
      ]
    },
    {
      "cell_type": "markdown",
      "source": [
        "# **Visualization**\n"
      ],
      "metadata": {
        "id": "0BR5yAwGka3B"
      }
    },
    {
      "cell_type": "code",
      "source": [
        "word_freq = Counter(all_words)\n",
        "top_words = pd.DataFrame(word_freq.most_common(10), columns=[\"word\", \"count\"])\n",
        "\n",
        "plt.figure(figsize=(10,5))\n",
        "sns.barplot(x=\"count\", y=\"word\", data=top_words, palette=\"viridis\")\n",
        "plt.title(\"Top 10 Most Frequent Words\")\n",
        "plt.show()\n"
      ],
      "metadata": {
        "colab": {
          "base_uri": "https://localhost:8080/",
          "height": 574
        },
        "id": "RLfOR_jVkbNn",
        "outputId": "624c4b55-4551-4503-ff4b-56b055bbd5e7"
      },
      "execution_count": null,
      "outputs": [
        {
          "output_type": "stream",
          "name": "stderr",
          "text": [
            "/tmp/ipython-input-1599887526.py:5: FutureWarning: \n",
            "\n",
            "Passing `palette` without assigning `hue` is deprecated and will be removed in v0.14.0. Assign the `y` variable to `hue` and set `legend=False` for the same effect.\n",
            "\n",
            "  sns.barplot(x=\"count\", y=\"word\", data=top_words, palette=\"viridis\")\n"
          ]
        },
        {
          "output_type": "display_data",
          "data": {
            "text/plain": [
              "<Figure size 1000x500 with 1 Axes>"
            ],
            "image/png": "[encoded data removed]"
          },
          "metadata": {}
        }
      ]
    },
    {
      "cell_type": "markdown",
      "source": [
        "# **User Experience Simulation**"
      ],
      "metadata": {
        "id": "9SSBQeq7kqK2"
      }
    },
    {
      "cell_type": "code",
      "source": [
        "user_input = \"artif\"\n",
        "print(f\"User typed: {user_input}\")\n",
        "print(\"Autocomplete Suggestions:\", trie.starts_with(user_input)[:5])"
      ],
      "metadata": {
        "colab": {
          "base_uri": "https://localhost:8080/"
        },
        "id": "OKARPAaqkqdv",
        "outputId": "4f86db43-2ab8-4e5f-e972-9451afd5f5ee"
      },
      "execution_count": null,
      "outputs": [
        {
          "output_type": "stream",
          "name": "stdout",
          "text": [
            "User typed: artif\n",
            "Autocomplete Suggestions: ['artificial', 'artificially', 'artificiality', 'artifice']\n"
          ]
        }
      ]
    }
  ]
}